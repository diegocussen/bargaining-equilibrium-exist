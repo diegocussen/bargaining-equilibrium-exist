{
 "cells": [
  {
   "cell_type": "code",
   "execution_count": 10,
   "metadata": {},
   "outputs": [],
   "source": [
    "# Author: Diego Cussen\n",
    "# Description: Mixed logit model simulation. Two retailers, two suppliers, full network.\n",
    "# Use Conlon and Gortmaker's (2020) pyBLP \n",
    "# sets gamma = 1."
   ]
  },
  {
   "cell_type": "code",
   "execution_count": 1,
   "metadata": {},
   "outputs": [
    {
     "data": {
      "text/plain": [
       "'1.1.0'"
      ]
     },
     "execution_count": 1,
     "metadata": {},
     "output_type": "execute_result"
    }
   ],
   "source": [
    "import numpy as np\n",
    "import pandas as pd\n",
    "import matplotlib.pyplot as plt\n",
    "\n",
    "import pyblp\n",
    "\n",
    "pyblp.options.digits = 2\n",
    "pyblp.options.verbose = False\n",
    "pyblp.__version__"
   ]
  },
  {
   "cell_type": "markdown",
   "metadata": {},
   "source": [
    "The model. \n",
    "\n",
    "Let $I=J=2$, $G=\\{(11), (12),(21),(22)\\}$. Each supplier sells one input to each retailer, who is an intermediary. Suppliers sell different inputs and have zero marginal cost. Consumers are not one-stop shoppers. \n",
    "\n",
    "Suppliers and retailers negotiate over a linear input price $x_{ij}$ for unit of input. If they fail to agree, the retailer may buy a substitute from a intermediary wholesaler at a price $\\bar{c}_{ij}$ that it cannot negotiate. This outside option is similar to that of Hristakeva (JPE 2022).\n",
    "\n",
    "Abusing notation, let $i$ index a product sold by retailer $j$ (identical to the supplier it buys the input from). Retailers' only costs are those of purchasing the inputs at linear input proce $x_{ij}$. Then, on and off-path profits are\n",
    "\n",
    "$$ \\hat{\\pi}_{D_j} (x_{ij}, \\mathbf{x}_{-(ij)}) = \\sum_{i=1, 2} (p_{ij}-x_{ij}) \\cdot s_{ij}(\\mathbf{p}) $$\n",
    "\n",
    "$$ \\bar{\\pi}_{D_j} (\\mathbf{x}_{-(ij)}) = (p_{ij}- \\bar{c}_{ij}) \\cdot s_{ij}(\\mathbf{p^{off}}) + (p_{-ij}-x_{-ij}) \\cdot s_{-ij}(\\mathbf{p^{off}}) $$\n",
    "\n",
    "$$ \\hat{\\pi}_{U_i} (\\mathbf{x}_{ij}, \\mathbf{x}_{-(ij)}) = \\sum_{j=1, 2} x_{ij} \\cdot s_{ij}(\\mathbf{p}) $$\n",
    "\n",
    "$$ \\bar{\\pi}_{U_i} (\\mathbf{x}_{-(ij)}) = x_{i-j} \\cdot s_{i-j}(\\mathbf{p^{off}}) $$\n",
    "\n",
    "where $p, \\, p^{off}\\in P\\subset \\mathbb{R}^4$ compact and convex, and \n",
    "\n",
    "$$ X \\equiv \\prod_{(ij)\\in G}[0,\\bar{c}_{ij}]$$\n",
    "\n",
    "With $b_{ij}\\in (0,1)$ for all $(ij)$, this $X$ ensures that $F$ maps into the interior of $X$. Therefore, Assumptions 1, 2.1, 3.1 and 3.3 are satisfied. As argued in the paper, the definition of $X$ above is an alternative to Assumption 3.4. So, all that remains for the equilibrium to be locally unique is checking that Assumptions 2.2, 2.3 and 3.2 hold. Remembering that A2.2 can be considerably weaked (Appendix B), and that A3.2 is almost guaranteed to hold, the main concern is Assumption 2.3. I check it below.\n",
    "\n",
    "Bargaining power parameters are $b_{ij}\\in[0,1]$ for all $(ij)$. I define them by drawing $b_f$ from a uniform distribution in $[0,1]$ for every firm $f$, and then defining $b_{ij} := b_j/(b_i +b_j)$.\n"
   ]
  },
  {
   "cell_type": "code",
   "execution_count": 2,
   "metadata": {},
   "outputs": [],
   "source": [
    "# parameters. one market: T = 1\n",
    "L = 4   # number of products == number of contract terms"
   ]
  },
  {
   "cell_type": "code",
   "execution_count": 3,
   "metadata": {},
   "outputs": [
    {
     "name": "stdout",
     "output_type": "stream",
     "text": [
      "Bargaining power parameters:  [0.24422219 0.23799849 0.08882901 0.08611411]\n"
     ]
    }
   ],
   "source": [
    "# generate the necessary random values.\n",
    "np.random.seed(1987)\n",
    "\n",
    "# bargaining power parameters\n",
    "b_f = np.random.uniform(0,1,L) \n",
    "b_11 = b_f[0]/(b_f[0]+b_f[2])\n",
    "b_21 = b_f[0]/(b_f[0]+b_f[3])\n",
    "b_12 = b_f[1]/(b_f[1]+b_f[2])\n",
    "b_22 = b_f[1]/(b_f[1]+b_f[3])\n",
    "b = np.array([b_11, b_21, b_12, b_22])\n",
    "\n",
    "print(\"Bargaining power parameters: \", b)"
   ]
  },
  {
   "cell_type": "code",
   "execution_count": 4,
   "metadata": {},
   "outputs": [
    {
     "name": "stdout",
     "output_type": "stream",
     "text": [
      "(4, 35)\n"
     ]
    }
   ],
   "source": [
    "# X grid\n",
    "# assume \\bar{c}_{ij} = 0.15 for all (ij)\n",
    "c_bar = 0.15\n",
    "x_min = 0\n",
    "steps = 35\n",
    "\n",
    "X_11 = np.linspace(x_min,c_bar,steps).reshape(1,steps)\n",
    "X_21 = np.linspace(x_min,c_bar,steps).reshape(1,steps)\n",
    "X_12 = np.linspace(x_min,c_bar,steps).reshape(1,steps)\n",
    "X_22 = np.linspace(x_min,c_bar,steps).reshape(1,steps)\n",
    "\n",
    "X = np.row_stack([X_11,X_21,X_12,X_22])\n",
    "print(X.shape)"
   ]
  },
  {
   "cell_type": "code",
   "execution_count": 5,
   "metadata": {},
   "outputs": [],
   "source": [
    "# initial price vector guess\n",
    "p_init = [1,1,1,1]"
   ]
  },
  {
   "cell_type": "code",
   "execution_count": 6,
   "metadata": {},
   "outputs": [],
   "source": [
    "# pyBLP simulation example. Following the tutorial in  https://pyblp.readthedocs.io/en/stable/tutorial.html\n",
    "id_data = pyblp.build_id_data(T=1, J=4, F=2)"
   ]
  },
  {
   "cell_type": "code",
   "execution_count": 7,
   "metadata": {},
   "outputs": [
    {
     "data": {
      "text/plain": [
       "Configured to construct nodes and weights according to the level-9 Gauss-Hermite product rule with options {}."
      ]
     },
     "execution_count": 7,
     "metadata": {},
     "output_type": "execute_result"
    }
   ],
   "source": [
    "integration = pyblp.Integration('product', 9)\n",
    "integration"
   ]
  },
  {
   "cell_type": "code",
   "execution_count": 8,
   "metadata": {},
   "outputs": [
    {
     "data": {
      "text/plain": [
       "Dimensions:\n",
       "====================================\n",
       " T    N    F    I    K1    K2    K3 \n",
       "---  ---  ---  ---  ----  ----  ----\n",
       " 1    4    2    9    3     1     1  \n",
       "====================================\n",
       "\n",
       "Formulations:\n",
       "=================================================\n",
       "        Column Indices:           0     1      2 \n",
       "-------------------------------  ---  ------  ---\n",
       "  X1: Linear Characteristics      1   prices   x \n",
       " X2: Nonlinear Characteristics    x              \n",
       "X3: Linear Cost Characteristics   z              \n",
       "=================================================\n",
       "\n",
       "Nonlinear Coefficient True Values:\n",
       "================\n",
       "Sigma:     x    \n",
       "------  --------\n",
       "  x     +1.0E+00\n",
       "================\n",
       "\n",
       "Beta True Values:\n",
       "============================\n",
       "   1       prices      x    \n",
       "--------  --------  --------\n",
       "+1.0E+00  -2.0E+00  +2.0E+00\n",
       "============================\n",
       "\n",
       "Gamma True Values:\n",
       "========\n",
       "   z    \n",
       "--------\n",
       "+1.0E+00\n",
       "========"
      ]
     },
     "execution_count": 8,
     "metadata": {},
     "output_type": "execute_result"
    }
   ],
   "source": [
    "simulation = pyblp.Simulation(\n",
    "   product_formulations=(\n",
    "       pyblp.Formulation('1 + prices + x'),\n",
    "       pyblp.Formulation('0 + x'),\n",
    "       pyblp.Formulation('0 + z')\n",
    "   ),\n",
    "   beta=[1, -2, 2],\n",
    "   sigma=1,\n",
    "   gamma=[1],\n",
    "   product_data=id_data,\n",
    "   integration=integration,\n",
    "   seed=0\n",
    ")\n",
    "simulation"
   ]
  },
  {
   "cell_type": "code",
   "execution_count": 9,
   "metadata": {},
   "outputs": [
    {
     "name": "stdout",
     "output_type": "stream",
     "text": [
      "0\n",
      "50000\n",
      "100000\n",
      "150000\n",
      "200000\n",
      "250000\n",
      "300000\n",
      "350000\n",
      "400000\n",
      "450000\n",
      "500000\n",
      "550000\n",
      "600000\n",
      "650000\n",
      "700000\n",
      "750000\n",
      "800000\n",
      "850000\n",
      "900000\n",
      "950000\n",
      "1000000\n",
      "1050000\n",
      "1100000\n",
      "1150000\n",
      "1200000\n",
      "1250000\n",
      "1300000\n",
      "1350000\n",
      "1400000\n",
      "1450000\n",
      "1500000\n"
     ]
    }
   ],
   "source": [
    "# compute all equilibrium prices and market shares\n",
    "eqm_prices_matrix = np.zeros((L,steps**L))\n",
    "eqm_shares_matrix = np.zeros((L,steps**L))\n",
    "\n",
    "counter = 0\n",
    "for q in range(steps):\n",
    "    x_11 = X[0,q]\n",
    "    for r in range(steps):\n",
    "        x_21 = X[1,r]\n",
    "        for s in range(steps):\n",
    "            x_12 = X[2,s]\n",
    "            for t in range(steps):\n",
    "                x_22 = X[3,t]\n",
    "                marg_cost = np.array([x_11, x_21, x_12, x_22]).reshape(L,1)\n",
    "                simulation_results = simulation.replace_endogenous(costs=marg_cost, prices=p_init)\n",
    "                \n",
    "                eqm_prices_matrix[:,counter] = simulation_results.product_data['prices'].reshape(L,) # check it runs correctly\n",
    "                eqm_shares_matrix[:,counter] = simulation_results.product_data['shares'].reshape(L,) # check it runs correctly\n",
    "                if counter % 50000 == 0:\n",
    "                    print(counter)\n",
    "                counter +=1"
   ]
  },
  {
   "cell_type": "code",
   "execution_count": 10,
   "metadata": {},
   "outputs": [
    {
     "name": "stdout",
     "output_type": "stream",
     "text": [
      "[[0.72213253 0.72254757 0.72296305 ... 0.85829326 0.85868332 0.85907379]\n",
      " [0.69095987 0.69133896 0.69171856 ... 0.82770994 0.82806146 0.82841345]\n",
      " [1.29427118 1.29213577 1.29000549 ... 1.4179485  1.41581091 1.41367848]\n",
      " [1.30159546 1.30383076 1.30607111 ... 1.41328552 1.41552331 1.41776622]]\n",
      "[[0.24945643 0.24980326 0.25015017 ... 0.2365312  0.23686462 0.23719812]\n",
      " [0.03237785 0.03242803 0.03247825 ... 0.03036922 0.0304165  0.03046382]\n",
      " [0.07979242 0.08031437 0.08083886 ... 0.07736101 0.07786463 0.07837067]\n",
      " [0.53398007 0.53281625 0.53164927 ... 0.52794748 0.52677131 0.52559202]]\n"
     ]
    }
   ],
   "source": [
    "# check\n",
    "print(eqm_prices_matrix)\n",
    "print(eqm_shares_matrix)"
   ]
  },
  {
   "cell_type": "code",
   "execution_count": 11,
   "metadata": {},
   "outputs": [],
   "source": [
    "# on and off-path profits and ourside option market shares\n",
    "on_path_profit_D1 = np.zeros((steps,steps,steps,steps))\n",
    "on_path_profit_D2 = np.zeros((steps,steps,steps,steps))\n",
    "on_path_profit_U1 = np.zeros((steps,steps,steps,steps))\n",
    "on_path_profit_U2 = np.zeros((steps,steps,steps,steps))\n",
    "\n",
    "off_path_profit_D1_11 = np.zeros((steps,steps,steps,steps))\n",
    "off_path_profit_D1_21 = np.zeros((steps,steps,steps,steps))\n",
    "\n",
    "off_path_profit_D2_12 = np.zeros((steps,steps,steps,steps))\n",
    "off_path_profit_D2_22 = np.zeros((steps,steps,steps,steps))\n",
    "\n",
    "off_path_profit_U1_11 = np.zeros((steps,steps,steps,steps))\n",
    "off_path_profit_U1_12 = np.zeros((steps,steps,steps,steps))\n",
    "\n",
    "off_path_profit_U2_21 = np.zeros((steps,steps,steps,steps))\n",
    "off_path_profit_U2_22 = np.zeros((steps,steps,steps,steps))\n",
    "\n",
    "U1_11_outside_option_shares = np.zeros((1,steps,steps,steps))\n",
    "\n",
    "U2_21_outside_option_shares = np.zeros((steps,1,steps,steps))\n",
    "\n",
    "U1_12_outside_option_shares = np.zeros((steps,steps,1,steps))\n",
    "\n",
    "U2_22_outside_option_shares = np.zeros((steps,steps,steps,1))\n"
   ]
  },
  {
   "cell_type": "code",
   "execution_count": 12,
   "metadata": {},
   "outputs": [],
   "source": [
    "# all on-path profits\n",
    "counter = 0\n",
    "for q in range(steps):\n",
    "    x_11 = X[0,q]\n",
    "    for r in range(steps):\n",
    "        x_21 = X[1,r]\n",
    "        for s in range(steps):\n",
    "            x_12 = X[2,s]\n",
    "            for t in range(steps):\n",
    "                x_22 = X[3,t]\n",
    "                p_11, p_21, p_12, p_22 = eqm_prices_matrix[:,counter]\n",
    "                s_11, s_21, s_12, s_22 = eqm_shares_matrix[:,counter]\n",
    "\n",
    "                on_path_profit_D1[q,r,s,t] = (p_11-x_11)*s_11 + (p_21-x_21)*s_21\n",
    "                on_path_profit_U1[q,r,s,t] = x_11*s_11 + x_12*s_12\n",
    "                \n",
    "                on_path_profit_D2[q,r,s,t] = (p_12-x_12)*s_12 + (p_22-x_22)*s_22\n",
    "                on_path_profit_U2[q,r,s,t] = x_21*s_21 + x_22*s_22\n",
    "                \n",
    "                # get the outside option shares\n",
    "                if q == steps-1: \n",
    "                    U1_11_outside_option_shares[0,r,s,t] = s_12\n",
    "                    \n",
    "                if r == steps-1: \n",
    "                    U2_21_outside_option_shares[q,0,s,t] = s_22\n",
    "                    \n",
    "                if s == steps-1:\n",
    "                    U1_12_outside_option_shares[q,r,0,t] = s_11\n",
    "                \n",
    "                if t == steps-1:\n",
    "                    U2_22_outside_option_shares[q,r,s,0] = s_21\n",
    "                \n",
    "                counter +=1"
   ]
  },
  {
   "cell_type": "code",
   "execution_count": 13,
   "metadata": {},
   "outputs": [],
   "source": [
    "# off-path profits \n",
    "for q in range(steps):\n",
    "    x_11 = X[0,q]\n",
    "    for r in range(steps):\n",
    "        x_21 = X[1,r]\n",
    "        for s in range(steps):\n",
    "            x_12 = X[2,s]\n",
    "            for t in range(steps):\n",
    "                x_22 = X[3,t]\n",
    "                \n",
    "                # pair (11)\n",
    "                off_path_profit_D1_11[q,r,s,t] = on_path_profit_D1[steps-1,r,s,t]\n",
    "                off_path_profit_U1_11[q,r,s,t] =  x_12 * U1_11_outside_option_shares[0,r,s,t]\n",
    "                \n",
    "                # pair (21)\n",
    "                off_path_profit_D1_21[q,r,s,t] = on_path_profit_D1[q,steps-1,s,t]\n",
    "                off_path_profit_U2_21[q,r,s,t] = x_22 * U2_21_outside_option_shares[q,0,s,t]\n",
    "                \n",
    "                # pair (12)\n",
    "                off_path_profit_D2_12[q,r,s,t] = on_path_profit_D2[q,r,steps-1,t]\n",
    "                off_path_profit_U1_12[q,r,s,t] = x_11 * U1_12_outside_option_shares[q,r,0,t]\n",
    "                \n",
    "                # pair (22)\n",
    "                off_path_profit_D2_22[q,r,s,t] = on_path_profit_D2[q,r,s,steps-1]\n",
    "                off_path_profit_U2_22[q,r,s,t] = x_21 * U2_22_outside_option_shares[q,r,s,0]\n",
    "\n"
   ]
  },
  {
   "cell_type": "code",
   "execution_count": 14,
   "metadata": {},
   "outputs": [
    {
     "name": "stdout",
     "output_type": "stream",
     "text": [
      "False\n",
      "False\n",
      "False\n",
      "False\n",
      "False\n",
      "False\n",
      "False\n",
      "False\n",
      "False\n",
      "False\n",
      "False\n",
      "False\n"
     ]
    }
   ],
   "source": [
    "# test\n",
    "print(np.isnan(on_path_profit_D1).any())\n",
    "print(np.isnan(on_path_profit_D2).any())\n",
    "print(np.isnan(on_path_profit_U1).any())\n",
    "print(np.isnan(on_path_profit_U2).any())\n",
    "\n",
    "print(np.isnan(off_path_profit_D1_11).any())\n",
    "print(np.isnan(off_path_profit_U1_11).any())\n",
    "print(np.isnan(off_path_profit_D1_21).any())\n",
    "print(np.isnan(off_path_profit_U2_21).any())\n",
    "\n",
    "print(np.isnan(off_path_profit_D2_12).any())\n",
    "print(np.isnan(off_path_profit_U1_12).any())\n",
    "print(np.isnan(off_path_profit_D2_22).any())\n",
    "print(np.isnan(off_path_profit_U2_22).any())"
   ]
  },
  {
   "cell_type": "code",
   "execution_count": 15,
   "metadata": {},
   "outputs": [],
   "source": [
    "# nash product functions using vectorization\n",
    "\n",
    "Nash_product_values_11 = np.zeros((steps,steps,steps,steps))\n",
    "Nash_product_values_21 = np.zeros((steps,steps,steps,steps))\n",
    "Nash_product_values_12 = np.zeros((steps,steps,steps,steps))\n",
    "Nash_product_values_22 = np.zeros((steps,steps,steps,steps))\n",
    "\n",
    "Nash_product_values_11 = ((np.maximum((on_path_profit_D1 - off_path_profit_D1_11),0))**b_11) * (np.maximum((on_path_profit_U1 - off_path_profit_U1_11),0))**(1-b_11)\n",
    "Nash_product_values_21 = ((np.maximum((on_path_profit_D1 - off_path_profit_D1_21),0))**b_21) * (np.maximum((on_path_profit_U2 - off_path_profit_U2_21),0))**(1-b_21)\n",
    "Nash_product_values_12 = ((np.maximum((on_path_profit_D2 - off_path_profit_D2_12),0))**b_12) * (np.maximum((on_path_profit_U1 - off_path_profit_U1_12),0))**(1-b_12)\n",
    "Nash_product_values_22 = ((np.maximum((on_path_profit_D2 - off_path_profit_D2_22),0))**b_22) * (np.maximum((on_path_profit_U2 - off_path_profit_U2_22),0))**(1-b_22)"
   ]
  },
  {
   "cell_type": "code",
   "execution_count": 16,
   "metadata": {},
   "outputs": [
    {
     "name": "stdout",
     "output_type": "stream",
     "text": [
      "False\n",
      "False\n",
      "False\n",
      "False\n"
     ]
    }
   ],
   "source": [
    "# check no NaN\n",
    "print(np.isnan(Nash_product_values_11).any())\n",
    "print(np.isnan(Nash_product_values_21).any())\n",
    "print(np.isnan(Nash_product_values_12).any())\n",
    "print(np.isnan(Nash_product_values_22).any())"
   ]
  },
  {
   "cell_type": "code",
   "execution_count": 17,
   "metadata": {},
   "outputs": [
    {
     "name": "stdout",
     "output_type": "stream",
     "text": [
      "Pair (11) satisfies A2.2 and A2.3:  True\n"
     ]
    }
   ],
   "source": [
    "# check assumptions A2.2 and A2.3\n",
    "# A2.3 requires unique global argmax. If it is unique, the not all are zeros, so satisfies A2.2\n",
    "\n",
    "pair_11_satisfies_A23 = True\n",
    "for r in range(steps):\n",
    "        for s in range(steps):\n",
    "            for t in range(steps):\n",
    "                size_argmax = np.sum(Nash_product_values_11[:,r,s,t] == np.max(Nash_product_values_11[:,r,s,t]))\n",
    "                satisfies = pair_11_satisfies_A23*(size_argmax == 1)\n",
    "                pair_11_satisfies_A23 = satisfies\n",
    "                if (size_argmax == 1) == False:\n",
    "                    print(r,s,t)\n",
    "                if (np.isnan(Nash_product_values_11[:,r,s,t]).any() == True):\n",
    "                    print(r,s,t)\n",
    "\n",
    "print('Pair (11) satisfies A2.2 and A2.3: ', pair_11_satisfies_A23)"
   ]
  },
  {
   "cell_type": "code",
   "execution_count": 18,
   "metadata": {},
   "outputs": [
    {
     "name": "stdout",
     "output_type": "stream",
     "text": [
      "Pair (21) satisfies A2.3 and A2.3:  True\n"
     ]
    }
   ],
   "source": [
    "# for pair (21)\n",
    "pair_21_satisfies_A23 = True\n",
    "for r in range(steps):\n",
    "        for s in range(steps):\n",
    "            for t in range(steps):\n",
    "                size_argmax = np.sum(Nash_product_values_21[r,:,s,t] == np.max(Nash_product_values_21[r,:,s,t]))\n",
    "                satisfies = pair_21_satisfies_A23*(size_argmax == 1)\n",
    "                pair_21_satisfies_A23 = satisfies\n",
    "\n",
    "print('Pair (21) satisfies A2.3 and A2.3: ', pair_21_satisfies_A23)"
   ]
  },
  {
   "cell_type": "code",
   "execution_count": 19,
   "metadata": {},
   "outputs": [
    {
     "name": "stdout",
     "output_type": "stream",
     "text": [
      "Pair (12) satisfies A2.2 and A2.3:  True\n"
     ]
    }
   ],
   "source": [
    "# for pair (12)\n",
    "pair_12_satisfies_A23 = True\n",
    "for r in range(steps):\n",
    "        for s in range(steps):\n",
    "            for t in range(steps):\n",
    "                size_argmax = np.sum(Nash_product_values_12[r,s,:,t] == np.max(Nash_product_values_12[r,s,:,t]))\n",
    "                satisfies = pair_12_satisfies_A23*(size_argmax == 1)\n",
    "                pair_12_satisfies_A23 = satisfies\n",
    "\n",
    "print('Pair (12) satisfies A2.2 and A2.3: ', pair_12_satisfies_A23)"
   ]
  },
  {
   "cell_type": "code",
   "execution_count": 20,
   "metadata": {},
   "outputs": [
    {
     "name": "stdout",
     "output_type": "stream",
     "text": [
      "Pair (22) satisfies A2.2 and A2.3:  True\n"
     ]
    }
   ],
   "source": [
    "# for pair (22)\n",
    "pair_22_satisfies_A23 = True\n",
    "for r in range(steps):\n",
    "        for s in range(steps):\n",
    "            for t in range(steps):\n",
    "                size_argmax = np.sum(Nash_product_values_22[r,s,t,:] == np.max(Nash_product_values_22[r,s,t,:]))\n",
    "                satisfies = pair_22_satisfies_A23*(size_argmax == 1)\n",
    "                pair_22_satisfies_A23 = satisfies\n",
    "\n",
    "print('Pair (22) satisfies A2.2 and A2.3: ', pair_22_satisfies_A23)"
   ]
  },
  {
   "cell_type": "code",
   "execution_count": 21,
   "metadata": {},
   "outputs": [
    {
     "name": "stdout",
     "output_type": "stream",
     "text": [
      "Assumptions 2.2 and 2.3 are satisfied: True\n"
     ]
    }
   ],
   "source": [
    "# print all checks at the same time\n",
    "print('Assumptions 2.2 and 2.3 are satisfied:', pair_11_satisfies_A23*pair_21_satisfies_A23*pair_12_satisfies_A23*pair_22_satisfies_A23)"
   ]
  },
  {
   "cell_type": "markdown",
   "metadata": {},
   "source": [
    "Now visualize the Nash product functions and get the bargainining solutions."
   ]
  },
  {
   "cell_type": "code",
   "execution_count": 22,
   "metadata": {},
   "outputs": [
    {
     "data": {
      "image/png": "[encoded data removed]",
      "text/plain": [
       "<Figure size 720x504 with 1 Axes>"
      ]
     },
     "metadata": {
      "needs_background": "light"
     },
     "output_type": "display_data"
    }
   ],
   "source": [
    "# plot\n",
    "x = X[0,:]\n",
    "y = Nash_product_values_11[:, 1, 1, 1]\n",
    "\n",
    "plt.figure(figsize=(10, 7))\n",
    "plt.plot(x, y, 'o-', color='black', markersize=6, linewidth=1.5, label='Nash product of (1, 1)')\n",
    "\n",
    "# format axes\n",
    "plt.xlabel(r'$x_{11}$', fontsize=14, labelpad=10)  # Use LaTeX-style formatting\n",
    "plt.ylabel('Nash Product', fontsize=14, labelpad=10)\n",
    "plt.xticks(fontsize=12)\n",
    "plt.yticks(fontsize=12)\n",
    "\n",
    "# add title and legend\n",
    "plt.title('Nash Product of (1, 1)', fontsize=16, pad=15)\n",
    "plt.legend(fontsize=12, loc='best', frameon=True, edgecolor='black')\n",
    "plt.grid(visible=True, linestyle='--', alpha=0.6)\n",
    "\n",
    "# add a border and tighten layout\n",
    "plt.tight_layout()\n",
    "\n",
    "# show plot\n",
    "plt.show()"
   ]
  },
  {
   "cell_type": "code",
   "execution_count": 23,
   "metadata": {},
   "outputs": [
    {
     "data": {
      "image/png": "[encoded data removed]",
      "text/plain": [
       "<Figure size 576x432 with 1 Axes>"
      ]
     },
     "metadata": {
      "needs_background": "light"
     },
     "output_type": "display_data"
    }
   ],
   "source": [
    "# Nash product of (11)\n",
    "\n",
    "x = X[0,:]\n",
    "y = Nash_product_values_11[:,1:10,1,0]\n",
    "# Plot the points\n",
    "plt.figure(figsize=(8, 6))\n",
    "plt.plot(x, y, 'o-', label='Nash product of (1 1)')  # \n",
    "plt.xlabel('x_11')\n",
    "plt.ylabel('Nash product')\n",
    "plt.title('Nash product')\n",
    "plt.legend()\n",
    "plt.grid(True)\n",
    "plt.show()"
   ]
  },
  {
   "cell_type": "code",
   "execution_count": 24,
   "metadata": {},
   "outputs": [
    {
     "name": "stdout",
     "output_type": "stream",
     "text": [
      "0.11029411764705882 0.11029411764705882\n",
      "w_11 maps to interior of X: True\n",
      "[0.11029412]\n"
     ]
    }
   ],
   "source": [
    "# bargaining solution of (11)\n",
    "\n",
    "x_11_star_args = np.zeros((1, steps, steps, steps))\n",
    "x_11_star = np.zeros((1, steps, steps, steps))\n",
    "\n",
    "for r in range(steps):\n",
    "        for s in range(steps):\n",
    "            for t in range(steps):\n",
    "                x_11_star_args[0,r,s,t] = np.argmax(Nash_product_values_11[:,r,s,t], axis = 0)\n",
    "                x_11_star[0,r,s,t] = X[0,int(x_11_star_args[0,r,s,t])]\n",
    "\n",
    "\n",
    "print(np.max(x_11_star), np.min(x_11_star))\n",
    "print(\"w_11 maps to interior of X:\", (np.max(x_11_star) < c_bar and np.min(x_11_star) > x_min))\n",
    "print(np.unique(x_11_star))"
   ]
  },
  {
   "cell_type": "code",
   "execution_count": 25,
   "metadata": {},
   "outputs": [
    {
     "data": {
      "image/png": "[encoded data removed]",
      "text/plain": [
       "<Figure size 576x432 with 1 Axes>"
      ]
     },
     "metadata": {
      "needs_background": "light"
     },
     "output_type": "display_data"
    }
   ],
   "source": [
    "# Nash product of (21)\n",
    "\n",
    "x = X[1,:]\n",
    "y = Nash_product_values_21[2,:,1:7,1]\n",
    "# Plot the points\n",
    "plt.figure(figsize=(8, 6))\n",
    "plt.plot(x, y, 'o-', label='Nash product of (2 1)')  # \n",
    "plt.xlabel('x_21')\n",
    "plt.ylabel('Nash product')\n",
    "plt.title('Nash product')\n",
    "plt.legend()\n",
    "plt.grid(True)\n",
    "plt.show()"
   ]
  },
  {
   "cell_type": "code",
   "execution_count": 26,
   "metadata": {},
   "outputs": [
    {
     "name": "stdout",
     "output_type": "stream",
     "text": [
      "0.11029411764705882 0.10588235294117647\n",
      "w_21 maps to interior of X: True\n",
      "[0.10588235 0.11029412]\n"
     ]
    }
   ],
   "source": [
    "# bargaining solution of (21)\n",
    "\n",
    "x_21_star_args = np.zeros((1, steps, steps, steps))\n",
    "x_21_star = np.zeros((1, steps, steps, steps))\n",
    "\n",
    "for r in range(steps):\n",
    "        for s in range(steps):\n",
    "            for t in range(steps):\n",
    "                x_21_star_args[0,r,s,t] = np.argmax(Nash_product_values_21[r,:,s,t], axis = 0)\n",
    "                x_21_star[0,r,s,t] = X[1,int(x_21_star_args[0,r,s,t])]\n",
    "\n",
    "print(np.max(x_21_star), np.min(x_21_star))\n",
    "print(\"w_21 maps to interior of X:\", (np.max(x_21_star) < c_bar and np.min(x_21_star) > x_min))\n",
    "print(np.unique(x_21_star))"
   ]
  },
  {
   "cell_type": "code",
   "execution_count": 27,
   "metadata": {},
   "outputs": [
    {
     "data": {
      "image/png": "[encoded data removed]",
      "text/plain": [
       "<Figure size 576x432 with 1 Axes>"
      ]
     },
     "metadata": {
      "needs_background": "light"
     },
     "output_type": "display_data"
    }
   ],
   "source": [
    "# Nash product of (12)\n",
    "\n",
    "x = X[2,:]\n",
    "y = Nash_product_values_12[10,10,:,1:7]\n",
    "# Plot the points\n",
    "plt.figure(figsize=(8, 6))\n",
    "plt.plot(x, y, 'o-', label='Nash product of (1 2)')  # \n",
    "plt.xlabel('x_12')\n",
    "plt.ylabel('Nash product')\n",
    "plt.title('Nash product')\n",
    "plt.legend()\n",
    "plt.grid(True)\n",
    "plt.show()"
   ]
  },
  {
   "cell_type": "code",
   "execution_count": 28,
   "metadata": {},
   "outputs": [
    {
     "name": "stdout",
     "output_type": "stream",
     "text": [
      "0.1323529411764706 0.1323529411764706\n",
      "x_12 maps to interior of X: True\n",
      "[0.13235294]\n"
     ]
    }
   ],
   "source": [
    "x_12_star_args = np.zeros((1, steps, steps, steps))\n",
    "x_12_star = np.zeros((1, steps, steps, steps))\n",
    "\n",
    "for r in range(steps):\n",
    "        for s in range(steps):\n",
    "            for t in range(steps):\n",
    "                x_12_star_args[0,r,s,t] = np.argmax(Nash_product_values_12[r,s,:,t], axis = 0)\n",
    "                x_12_star[0,r,s,t] = X[2,int(x_12_star_args[0,r,s,t])]\n",
    "\n",
    "print(np.max(x_12_star), np.min(x_12_star))\n",
    "print(\"x_12 maps to interior of X:\", (np.max(x_12_star) < c_bar and np.min(x_12_star) > x_min))\n",
    "print(np.unique(x_12_star))"
   ]
  },
  {
   "cell_type": "code",
   "execution_count": 29,
   "metadata": {},
   "outputs": [
    {
     "data": {
      "image/png": "[encoded data removed]",
      "text/plain": [
       "<Figure size 576x432 with 1 Axes>"
      ]
     },
     "metadata": {
      "needs_background": "light"
     },
     "output_type": "display_data"
    }
   ],
   "source": [
    "# Nash product of (22)\n",
    "\n",
    "x = X[3,:]\n",
    "y = Nash_product_values_22[6,1,11,:]\n",
    "# Plot the points\n",
    "plt.figure(figsize=(8, 6))\n",
    "plt.plot(x, y, 'o-', label='Nash product of (2 2)')  # \n",
    "plt.xlabel('x_22')\n",
    "plt.ylabel('Nash product')\n",
    "plt.title('Nash product')\n",
    "plt.legend()\n",
    "plt.grid(True)\n",
    "plt.show()"
   ]
  },
  {
   "cell_type": "code",
   "execution_count": 30,
   "metadata": {},
   "outputs": [
    {
     "name": "stdout",
     "output_type": "stream",
     "text": [
      "0.13676470588235293 0.13676470588235293\n",
      "x_22 maps to interior of X: True\n",
      "[0.13676471]\n"
     ]
    }
   ],
   "source": [
    "x_22_star_args = np.zeros((1, steps, steps, steps))\n",
    "x_22_star = np.zeros((1, steps, steps, steps))\n",
    "\n",
    "for r in range(steps):\n",
    "        for s in range(steps):\n",
    "            for t in range(steps):\n",
    "                x_22_star_args[0,r,s,t] = np.argmax(Nash_product_values_22[r,s,t,:], axis = 0)\n",
    "                x_22_star[0,r,s,t] = X[3,int(x_22_star_args[0,r,s,t])]\n",
    "                \n",
    "print(np.max(x_22_star), np.min(x_22_star))\n",
    "print(\"x_22 maps to interior of X:\", (np.max(x_22_star) < c_bar and np.min(x_22_star) > x_min))\n",
    "print(np.unique(x_22_star))"
   ]
  },
  {
   "cell_type": "code",
   "execution_count": 31,
   "metadata": {},
   "outputs": [
    {
     "name": "stdout",
     "output_type": "stream",
     "text": [
      "Assumption 3.3 (F maps into interior of X) holds: True\n"
     ]
    }
   ],
   "source": [
    "# Assumption 3.3\n",
    "print(\"Assumption 3.3 (F maps into interior of X) holds:\", \n",
    "      (np.max(x_11_star) < c_bar and np.min(x_11_star) > x_min) * (np.max(x_22_star) < c_bar and np.min(x_22_star) > x_min) * \n",
    "      (np.max(x_12_star) < c_bar and np.min(x_12_star) > x_min) * (np.max(x_22_star) < c_bar and np.min(x_22_star) > x_min)\n",
    "      )"
   ]
  },
  {
   "cell_type": "markdown",
   "metadata": {},
   "source": [
    "## Jacobi sequence to compute equilibria"
   ]
  },
  {
   "cell_type": "code",
   "execution_count": 32,
   "metadata": {},
   "outputs": [],
   "source": [
    "#  define the update function\n",
    "\n",
    "def jacobi_update(x):\n",
    "    \"\"\"\n",
    "    Applies the Jacobi algorithm to function Q, with\n",
    "            Q(w) = w - F(w)\n",
    "\n",
    "    Input:\n",
    "        x (np.array): K-dimensional column vector with all input prices\n",
    "    \n",
    "    Output:\n",
    "        x_jac (np.array): K-dimensional column vector with all input prices\n",
    "                          updated by the Jacobi algorithm\n",
    "    \"\"\"\n",
    "    x_jac = np.zeros((len(x), 1))\n",
    "    \n",
    "    # map indices to the corresponding arrays\n",
    "    x_star_map = [x_11_star, x_21_star, x_12_star, x_22_star]\n",
    "    \n",
    "    for i in range(len(x)):\n",
    "        x_not = np.delete(x, i, axis=0)  # extract the vector \\mathbf{x}_{-(ij)}\n",
    "        \n",
    "        # create index vector using broadcasting and np.where\n",
    "        index_vector = np.array([np.where(X[i, :] == x_not[j])[0][0] for j in range(len(x_not))])\n",
    "        \n",
    "        # update x_jac using the pre-mapped array\n",
    "        x_jac[i, 0] = x_star_map[i][0, index_vector[0], index_vector[1], index_vector[2]]\n",
    "    \n",
    "    return x_jac\n"
   ]
  },
  {
   "cell_type": "code",
   "execution_count": 33,
   "metadata": {},
   "outputs": [
    {
     "name": "stdout",
     "output_type": "stream",
     "text": [
      "[[0. 0.]]\n"
     ]
    }
   ],
   "source": [
    "# check all equilibria\n",
    "x_11_array = np.array(np.unique(x_11_star))\n",
    "x_21_array = np.array(np.unique(x_21_star))\n",
    "x_12_array = np.array(np.unique(x_12_star))\n",
    "x_22_array = np.array(np.unique(x_22_star))\n",
    "\n",
    "eqm_counter = np.zeros((1,len(x_11_array) * len(x_21_array) * len(x_12_array) * len(x_22_array)))\n",
    "print(eqm_counter)"
   ]
  },
  {
   "cell_type": "code",
   "execution_count": 34,
   "metadata": {},
   "outputs": [
    {
     "name": "stdout",
     "output_type": "stream",
     "text": [
      "[0.11029412 0.10588235 0.13235294 0.13676471] is an equilibrium: False\n",
      "[0.11029412 0.11029412 0.13235294 0.13676471] is an equilibrium: True\n",
      "There equilibrium with this grid is unique: True\n"
     ]
    }
   ],
   "source": [
    "counter = 0 \n",
    "for q in range(len(x_11_array)):\n",
    "    x11 = x_11_array[q]\n",
    "    for r in range(len(x_21_array)):\n",
    "        x21 = x_21_array[r]\n",
    "        for s in range(len(x_12_array)):\n",
    "            x12 = x_12_array[s]\n",
    "            for t in range(len(x_22_array)):\n",
    "                x22 = x_22_array[t]\n",
    "                x = np.array([x11,x21,x12,x22])\n",
    "                print(f'{x} is an equilibrium:', (x.reshape(L,)-jacobi_update(x).reshape(L,)).any()==0)\n",
    "                if (x.reshape(L,)-jacobi_update(x).reshape(L,)).any()==0:\n",
    "                    eqm_counter[0,counter] = 1\n",
    "                counter += 1\n",
    "\n",
    "print('There equilibrium with this grid is unique:', np.sum(eqm_counter == 1) == 1)"
   ]
  }
 ],
 "metadata": {
  "kernelspec": {
   "display_name": "base",
   "language": "python",
   "name": "python3"
  },
  "language_info": {
   "codemirror_mode": {
    "name": "ipython",
    "version": 3
   },
   "file_extension": ".py",
   "mimetype": "text/x-python",
   "name": "python",
   "nbconvert_exporter": "python",
   "pygments_lexer": "ipython3",
   "version": "3.9.12"
  }
 },
 "nbformat": 4,
 "nbformat_minor": 2
}
